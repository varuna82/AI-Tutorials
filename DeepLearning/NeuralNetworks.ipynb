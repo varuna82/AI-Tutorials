{
 "cells": [
  {
   "cell_type": "markdown",
   "metadata": {
    "colab_type": "text",
    "id": "view-in-github"
   },
   "source": [
    "# Components of a Neural Network\n",
    "- Input Layer\n",
    "- Hidden Layer\n",
    "- Output Layer\n",
    "- Activation Function\n",
    "- Loss Function\n",
    "- Gradient Descent\n",
    "- Executing Gradient Descent\n",
    "- Monitoring Bias/Variance\n",
    "- Hyper parameter optimization\n",
    "\n",
    "Note: DNNs have more than 2 hidden layers.\n",
    "\n",
    "---------------"
   ]
  },
  {
   "cell_type": "code",
   "execution_count": 1,
   "metadata": {},
   "outputs": [
    {
     "name": "stderr",
     "output_type": "stream",
     "text": [
      "/anaconda3/lib/python3.6/site-packages/h5py/__init__.py:36: FutureWarning: Conversion of the second argument of issubdtype from `float` to `np.floating` is deprecated. In future, it will be treated as `np.float64 == np.dtype(float).type`.\n",
      "  from ._conv import register_converters as _register_converters\n"
     ]
    }
   ],
   "source": [
    "import tensorflow as tf\n",
    "import numpy as np\n",
    "\n",
    "try:\n",
    "    import matplotlib.pyplot as plt\n",
    "    %matplotlib inline\n",
    "except:\n",
    "    pass"
   ]
  },
  {
   "cell_type": "markdown",
   "metadata": {},
   "source": [
    "## Cost (Loss/Error) Function\n",
    "- Calculate the distance between labels and predictions\n",
    "- Used to calculate direction of the gradient descent.\n",
    "- Error function should be differentiable.\n",
    "- Error function should be continuous.\n",
    "\n",
    "There are various error functions and should be chosen according to the situation"
   ]
  },
  {
   "cell_type": "markdown",
   "metadata": {
    "colab_type": "text",
    "id": "vOorS9ODFvJi"
   },
   "source": [
    "### Error Function (Loglikelihood Cross-entropy)\n",
    "\n",
    "$\n",
    "\\begin{align}\n",
    "Error(model, dataset) = -\\frac{1}{N}\\sum_{i=0}^{N} \\sum_{j=0}^{M} y^{(i)}_j * ln(\\hat y^{(i)}_j) \\\\\n",
    "\\end{align}\n",
    "$\n",
    "\n",
    "**Questions**\n",
    "- Are there other error functions than this one \n",
    "\n",
    "Justification for deriving the **error function** is given below.\n",
    "\n",
    "#### Error Count\n",
    "- Count number of errors\n",
    "- Problems\n",
    "  - Cost function is discrete, it's difficult for the gradient descent to work in small steps\n",
    "<img src=\"DescreetError.png\" width=\"200px\"> \n",
    "\n",
    "#### Log Loss Function\n",
    "- Estimate error based on distance between labels and predictions\n",
    "  - Hence, larger penalty will be assigned for miss predictions and smaller penalty for better predictions"
   ]
  },
  {
   "cell_type": "markdown",
   "metadata": {},
   "source": [
    "#### Maximum Likelihood\n",
    "\n",
    "- [Udacity Lecture for likelihood](https://classroom.udacity.com/nanodegrees/nd889/parts/16cf5df5-73f0-4afa-93a9-de5974257236/modules/6124bd95-dec2-44f9-bf3b-498ea57699c7/lessons/47f6c25c-7749-4a02-b807-7a5b37f362e8/concepts/32704510-a70c-4a9b-a2c6-77ccdd389c0c)\n",
    "- [Udacity Lecture for log likelihood resoning](https://classroom.udacity.com/nanodegrees/nd889/parts/16cf5df5-73f0-4afa-93a9-de5974257236/modules/6124bd95-dec2-44f9-bf3b-498ea57699c7/lessons/47f6c25c-7749-4a02-b807-7a5b37f362e8/concepts/2098790c-e2ce-4c0e-9e39-326bf189b417)\n",
    "- Likelihood is probability for accuracy of the predictions.\n",
    "   - Predictions are given as probabilities for being class 1 -> ŷ\n",
    "   - Labels are given as 1 or 0 (since this is the binary-class) -> y\n",
    "   \n",
    "   $$Likelihood = \\prod_{n=0}^{N} y_n * \\hat y_n + (1 - y_n) * (1 - \\hat y_n)$$\n",
    "   ----- or ----\n",
    "   $$Likelihood = \\prod_{n=0}^{N} {\\hat y_n}^{y_n} * {(1 - \\hat y_n)}^{(1 - y_n)}$$\n",
    "   \n",
    "- Likelihood is difficult to work with, since product of probabilities get very small \n",
    "(product of fractions gets small exponetially)\n",
    "\n",
    "#### Cross-Entropy\n",
    "\n",
    "$$Crossentropy = -\\sum_{i=0}^{N} ln(y^i_{label} * y^i_{pred}) + ln((1 - y^i_{label}) * (1 - y^i_{pred}))$$\n",
    "\n",
    "- **Log (ln)** is used to convert products in the likelihood into summations.\n",
    "- **Negative** is used since likelihood is a probability (0 < p < 1), therefore log value is a minus.\n"
   ]
  },
  {
   "cell_type": "code",
   "execution_count": 56,
   "metadata": {},
   "outputs": [
    {
     "name": "stdout",
     "output_type": "stream",
     "text": [
      "[1.  0.6 1.  0.2]\n",
      "Labels       : 0.0, 1.0, 0.0, 1.0\n",
      "Prediction   : 0.9, 0.6, 0.3, 0.2 (predicted probability of being 1)\n",
      "Likelihoods  : 0.1, 0.6, 0.7, 0.2 (predicted probability of being labeled class)\n",
      "Likelihood   : 0.0084\n",
      "Cross-entropy: 4.7795\n"
     ]
    }
   ],
   "source": [
    "# example in udacity lecture worked out\n",
    "\n",
    "y_labels = tf.constant([0., 1., 0., 1.]) # class labels \n",
    "y_pred = tf.constant([0.9, 0.6, 0.3, 0.2]) # probability of being 1\n",
    "\n",
    "term_1 = tf.pow(y_pred, y_labels)\n",
    "term_2 = tf.pow((1-y_pred), (1-y_labels))\n",
    "likelihoods = term_1 * term_2\n",
    "likelihood = tf.reduce_prod(likelihoods)\n",
    "\n",
    "log_likelihoods = -tf.log(likelihoods)\n",
    "cross_entropy = tf.reduce_sum(log_likelihoods)\n",
    "\n",
    "init = tf.global_variables_initializer()\n",
    "\n",
    "with tf.Session() as sess:\n",
    "    init.run()\n",
    "    \n",
    "    _y_labels, _y_preds = sess.run([y_labels, y_pred])\n",
    "    _likelihood, _likelihoods, _term_1, _term_2 = sess.run([likelihood, likelihoods, term_1, term_2])\n",
    "    _cross_entropy, _log_likelihoods = sess.run([cross_entropy, log_likelihoods])\n",
    "    \n",
    "    print(sess.run(tpow))\n",
    "\n",
    "def flist(l):\n",
    "    return \", \".join([f\"{x:.1f}\" for x in l])\n",
    "print(f\"Labels       : {flist(_y_labels)}\")\n",
    "print(f\"Prediction   : {flist(_y_preds)} (predicted probability of being 1)\")\n",
    "print(f\"Likelihoods  : {flist(_likelihoods)} (predicted probability of being labeled class)\")\n",
    "print(f\"Likelihood   : {_likelihood:.4f}\")\n",
    "print(f\"Cross-entropy: {_cross_entropy:.4f}\")\n",
    "    "
   ]
  },
  {
   "cell_type": "markdown",
   "metadata": {},
   "source": [
    "#### Cross-Entropy (Multi-class)\n",
    "\n",
    "$\n",
    "\\begin{align}\n",
    "Crossentropy = -\\sum_{i=0}^{N} \\sum_{j=0}^{M} y^{(i)}_j * ln(\\hat y^{(i)}_j) \\\\\n",
    "\\end{align}\n",
    "$\n",
    "- Legend\n",
    "  - i: number of data points (1 to N)\n",
    "  - j: number of classes (1 to M)\n",
    "  - y: labels\n",
    "  - ŷ: predictions\n"
   ]
  },
  {
   "cell_type": "markdown",
   "metadata": {},
   "source": [
    "#### Error Function\n",
    "\n",
    "$\n",
    "\\begin{align}\n",
    "Error(model, dataset) = -\\frac{1}{N}\\sum_{i=0}^{N} \\sum_{j=0}^{M} y^{(i)}_j * ln(\\hat y^{(i)}_j) \\\\\n",
    "\\end{align}\n",
    "$\n",
    "\n",
    "- Legend\n",
    "  - i: number of data points (1 to N)\n",
    "  - j: number of classes (1 to M)\n",
    "  - y: labels\n",
    "  - ŷ: predictions\n"
   ]
  },
  {
   "cell_type": "markdown",
   "metadata": {},
   "source": [
    "## Tensorflow Loss Functions\n",
    "\n",
    "- [absolute difference](https://www.tensorflow.org/api_docs/python/tf/losses/absolute_difference): Average difference between two vectors\n",
    "- [sigmoid_cross_entropy_loss](https://www.tensorflow.org/api_docs/python/tf/losses/sigmoid_cross_entropy): Take *logits* for *y_pred*. i.e. values from the output layer before calculating probabilities; in other words, **before applying *sigmoid* function**."
   ]
  },
  {
   "cell_type": "code",
   "execution_count": 48,
   "metadata": {},
   "outputs": [
    {
     "name": "stdout",
     "output_type": "stream",
     "text": [
      "Absolute difference\n",
      "Numpy:  2.5\n",
      "Tensorflow 2.5\n",
      "\n",
      "Log Loss:  -1.6118101\n",
      "MSE Loss:  2.5\n",
      "Sigmoid Cross Entropy Loss:  0.782784\n"
     ]
    }
   ],
   "source": [
    "# example in udacity lecture worked out\n",
    "\n",
    "y_labels = tf.constant([0., 1., 0., 1.]) # class labels \n",
    "y_pred = tf.constant([0.9, 0.6, 0.3, 0.2]) # probability of being 1\n",
    "\n",
    "log_loss = tf.losses.log_loss([1.1], [1])\n",
    "mse_loss = tf.losses.mean_squared_error([1, 2], [2, 4])\n",
    "absolute_loss = tf.losses.absolute_difference([1, -2], [2, 2])\n",
    "sigmoid_cross_entropy_loss = tf.losses.sigmoid_cross_entropy(y_labels, y_pred)\n",
    "\n",
    "init = tf.global_variables_initializer()\n",
    "\n",
    "with tf.Session() as sess:\n",
    "    init.run()\n",
    "    \n",
    "    print(\"Absolute difference\")\n",
    "    _absolute_loss = sess.run(absolute_loss)\n",
    "    print(\"Numpy: \", np.abs(np.average(np.array([1, -2]) - np.array([2, 2]))))\n",
    "    print(\"Tensorflow\", _absolute_loss)\n",
    "    print()\n",
    "    print(\"Log Loss: \", sess.run(log_loss))\n",
    "    print(\"MSE Loss: \", sess.run(mse_loss))\n",
    "    print(\"Sigmoid Cross Entropy Loss: \", sess.run(sigmoid_cross_entropy_loss))"
   ]
  },
  {
   "cell_type": "markdown",
   "metadata": {},
   "source": [
    "## Activation Functions"
   ]
  },
  {
   "cell_type": "markdown",
   "metadata": {},
   "source": [
    "### Sigmoid Function\n",
    "$$sigmoid(x) = \\dfrac{1}{1+e^{-x}}$$"
   ]
  },
  {
   "cell_type": "code",
   "execution_count": 17,
   "metadata": {},
   "outputs": [
    {
     "data": {
      "image/png": "[encoded data removed]",
      "text/plain": [
       "<Figure size 432x288 with 1 Axes>"
      ]
     },
     "metadata": {},
     "output_type": "display_data"
    }
   ],
   "source": [
    "#x = tf.get_variable(\"X\")\n",
    "x = tf.range(-8, 8, 0.1)\n",
    "y = tf.sigmoid(x)\n",
    "\n",
    "init = tf.global_variables_initializer()\n",
    "\n",
    "with tf.Session() as sess:\n",
    "    init.run()\n",
    "    \n",
    "    X, Y = sess.run([x, y])\n",
    "\n",
    "plt.title(\"Sigmoid\")\n",
    "plt.plot(X, Y)\n",
    "plt.yticks(np.arange(0, 1.1, 0.25))\n",
    "plt.grid(True)"
   ]
  },
  {
   "cell_type": "markdown",
   "metadata": {},
   "source": [
    "- Convert descrete prediction (0 or 1) to a continuous function. Continuous functions provide better estimates for the loss function.\n",
    "\n",
    "**Usage**\n",
    "- Activation function of the hidden layers.\n",
    "  - Explain how Relu is better\n",
    "- Activation function for the output layer in binary classification.\n",
    "  - Explain how continous function is converted to descrete"
   ]
  },
  {
   "cell_type": "markdown",
   "metadata": {},
   "source": [
    "### Softmax\n",
    "\n",
    "$$Softmax(i)=\\dfrac{e^{L_i}}{\\sum_{i=1}^{N} e^{L_i}}$$ \n",
    "`Where`<br>\n",
    "`- i: class`<br>\n",
    "`- L_i: Linear fuction score for class i`\n",
    "\n",
    "- Softmax converts score given to each class into probabilities that sums upto 1.\n",
    "- Used as activation function for output layer in multi-class classification"
   ]
  },
  {
   "cell_type": "code",
   "execution_count": 36,
   "metadata": {},
   "outputs": [
    {
     "name": "stdout",
     "output_type": "stream",
     "text": [
      "Scores:                [2. 3. 1.]\n",
      "Softmax Probabilities: [0.24472848 0.66524094 0.09003057]\n",
      "Sum:                   1.0\n"
     ]
    }
   ],
   "source": [
    "#x = tf.get_variable(\"X\")\n",
    "x = tf.placeholder(tf.float32)\n",
    "y = tf.nn.softmax(x)\n",
    "\n",
    "sum = tf.reduce_sum(y)\n",
    "\n",
    "init = tf.global_variables_initializer()\n",
    "\n",
    "with tf.Session() as sess:\n",
    "    init.run()\n",
    "    \n",
    "    Sum, X, Y = sess.run([sum, x, y], feed_dict={x: [2, 3, 1]})\n",
    "\n",
    "print(f\"Scores:                {X}\")\n",
    "print(f\"Softmax Probabilities: {Y}\")\n",
    "print(f\"Sum:                   {Sum}\")"
   ]
  },
  {
   "cell_type": "markdown",
   "metadata": {},
   "source": [
    "# Gradient Descent\n"
   ]
  },
  {
   "cell_type": "code",
   "execution_count": null,
   "metadata": {},
   "outputs": [],
   "source": []
  }
 ],
 "metadata": {
  "colab": {
   "collapsed_sections": [],
   "include_colab_link": true,
   "name": "Neural Networks.ipynb",
   "provenance": [],
   "version": "0.3.2"
  },
  "kernelspec": {
   "display_name": "Python 3",
   "language": "python",
   "name": "python3"
  },
  "language_info": {
   "codemirror_mode": {
    "name": "ipython",
    "version": 3
   },
   "file_extension": ".py",
   "mimetype": "text/x-python",
   "name": "python",
   "nbconvert_exporter": "python",
   "pygments_lexer": "ipython3",
   "version": "3.6.5"
  }
 },
 "nbformat": 4,
 "nbformat_minor": 2
}
