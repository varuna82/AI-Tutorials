{
 "cells": [
  {
   "cell_type": "markdown",
   "metadata": {},
   "source": [
    "# Tensorflow Basics"
   ]
  },
  {
   "cell_type": "code",
   "execution_count": 1,
   "metadata": {},
   "outputs": [
    {
     "name": "stdout",
     "output_type": "stream",
     "text": [
      "Using matplotlib backend: MacOSX\n"
     ]
    }
   ],
   "source": [
    "import numpy as np\n",
    "import os\n",
    "\n",
    "%matplotlib\n",
    "import matplotlib\n",
    "import matplotlib.pyplot as plot\n",
    "import time"
   ]
  },
  {
   "cell_type": "markdown",
   "metadata": {},
   "source": [
    "## Create and Running a Graph"
   ]
  },
  {
   "cell_type": "code",
   "execution_count": 20,
   "metadata": {},
   "outputs": [],
   "source": [
    "import tensorflow as tf\n",
    "\n",
    "def reset_graph(seed=42):\n",
    "    tf.reset_default_graph()  # reset default graph\n",
    "    tf.set_random_seed(seed)  # seed tensorflow\n",
    "    np.random.seed(seed)      # seed numpy"
   ]
  },
  {
   "cell_type": "markdown",
   "metadata": {},
   "source": [
    "## Variables\n",
    "\n",
    "Tensorflow variables are nodes in the execution graph that holds a variable value. Value could be simple types like int, float or complex types like tensors. Various ops could be performed on variables.\n",
    "\n",
    "**Note:** \n",
    "- Use tf.get_variable function instead of tf.Variable constructor\n",
    "- Get variable returns existing variable. So remeber to reset the graph to reset values held by the variables\n",
    "\n",
    "\n",
    "Overview: https://www.tensorflow.org/guide/variables"
   ]
  },
  {
   "cell_type": "code",
   "execution_count": 80,
   "metadata": {},
   "outputs": [],
   "source": [
    "reset_graph()\n",
    "\n",
    "# if get_variable is used, scope should be set to AUTO_REUSE\n",
    "with tf.variable_scope(\"foo\", reuse=tf.AUTO_REUSE):\n",
    "    x = tf.get_variable('x', initializer=3)\n",
    "    y = tf.get_variable('y', initializer=4)\n",
    "    a = tf.constant(2, name='a')\n",
    "\n",
    "    t1 = tf.get_variable('t1', shape=(2, 4), initializer=tf.zeros_initializer)\n",
    "    t2 = tf.get_variable('t2', shape=(2, 4), initializer=tf.random_normal_initializer)\n",
    "\n",
    "# create variable using Variable. This will not reuse existing variables\n",
    "v = tf.Variable(2, name='v') # get_variable is preffered"
   ]
  },
  {
   "cell_type": "markdown",
   "metadata": {},
   "source": [
    "## Graph\n",
    "\n",
    "Tensorflow uses *default graph* for variables when not specified. Usage of explicit graph is given below"
   ]
  },
  {
   "cell_type": "code",
   "execution_count": 81,
   "metadata": {},
   "outputs": [
    {
     "name": "stdout",
     "output_type": "stream",
     "text": [
      "True\n",
      "True\n"
     ]
    }
   ],
   "source": [
    "graph = tf.Graph()\n",
    "\n",
    "with graph.as_default(), tf.variable_scope(\"bar\", reuse=tf.AUTO_REUSE):\n",
    "    k = tf.get_variable('k', initializer=19, dtype=tf.int32)\n",
    "    \n",
    "print(x.graph == tf.get_default_graph())\n",
    "print(k.graph == graph)"
   ]
  },
  {
   "cell_type": "markdown",
   "metadata": {},
   "source": [
    "## Operations\n",
    "\n",
    "Tensorflow operation is performed below. Operations are same as math operations due to operator overloading"
   ]
  },
  {
   "cell_type": "code",
   "execution_count": 82,
   "metadata": {},
   "outputs": [],
   "source": [
    "f = x*x*y + y + a"
   ]
  },
  {
   "cell_type": "markdown",
   "metadata": {},
   "source": [
    "## Evaluating Tensor Graph\n",
    "\n",
    "Tensorflow uses lazy evaluation and objects are not initialized at creation. "
   ]
  },
  {
   "cell_type": "code",
   "execution_count": 83,
   "metadata": {},
   "outputs": [
    {
     "data": {
      "text/plain": [
       "(<tf.Variable 'foo/x:0' shape=() dtype=int32_ref>,\n",
       " <tf.Tensor 'add_1:0' shape=() dtype=int32>,\n",
       " <tf.Tensor 'foo/a:0' shape=() dtype=int32>)"
      ]
     },
     "execution_count": 83,
     "metadata": {},
     "output_type": "execute_result"
    }
   ],
   "source": [
    "# variable sare not evaluated\n",
    "x, f, a"
   ]
  },
  {
   "cell_type": "markdown",
   "metadata": {},
   "source": [
    "### Evaluate Verbose Version"
   ]
  },
  {
   "cell_type": "code",
   "execution_count": 84,
   "metadata": {},
   "outputs": [
    {
     "name": "stdout",
     "output_type": "stream",
     "text": [
      "3\n",
      "2\n",
      "42\n"
     ]
    }
   ],
   "source": [
    "# initialize (verbose)\n",
    "\n",
    "sess = tf.Session()\n",
    "sess.run(x.initializer)\n",
    "sess.run(y.initializer)\n",
    "# a doesn't need to be initialized since it's a constant \n",
    "\n",
    "print(x.eval(session=sess))   # x should be initialized to call this function\n",
    "print(a.eval(session=sess))   # a doesn't need to be initialized since it's a const\n",
    "\n",
    "result = sess.run(f)\n",
    "print(result)\n",
    "sess.close()"
   ]
  },
  {
   "cell_type": "markdown",
   "metadata": {},
   "source": [
    "### Evaluate Usable Version"
   ]
  },
  {
   "cell_type": "code",
   "execution_count": 85,
   "metadata": {},
   "outputs": [
    {
     "name": "stdout",
     "output_type": "stream",
     "text": [
      "42\n"
     ]
    }
   ],
   "source": [
    "# use global initialized to initialize all the variables\n",
    "init = tf.global_variables_initializer()\n",
    "\n",
    "with tf.Session() as sess:\n",
    "    init.run() # run global initializer\n",
    "    result = f.eval()\n",
    "    \n",
    "    print(result)"
   ]
  },
  {
   "cell_type": "markdown",
   "metadata": {},
   "source": [
    "## Lifecylce of Nodes"
   ]
  },
  {
   "cell_type": "code",
   "execution_count": 91,
   "metadata": {},
   "outputs": [
    {
     "name": "stdout",
     "output_type": "stream",
     "text": [
      "10\n",
      "8\n",
      "\n",
      "Efficient way\n",
      "10\n",
      "8\n"
     ]
    }
   ],
   "source": [
    "w = tf.constant(3)\n",
    "x = w + 2\n",
    "y = x + 5\n",
    "z = x + 3\n",
    "\n",
    "# This uses two passes through the graph, since node y and z are evaluated seperately.\n",
    "# Value of x is evaluated twice since graph is reset at each run\n",
    "with tf.Session() as sess:\n",
    "    print(y.eval(session=sess))\n",
    "    print(z.eval(session=sess))\n",
    "    \n",
    "print(\"\\nEfficient way\")\n",
    "# using one pass evaluation is efficient since nodes are reused\n",
    "with tf.Session() as sess:\n",
    "    y_val, z_val = sess.run([y, z])\n",
    "    print(y_val)\n",
    "    print(z_val)\n"
   ]
  },
  {
   "cell_type": "markdown",
   "metadata": {},
   "source": [
    "## Tensorflow Autodiff (Back-propagation)"
   ]
  },
  {
   "cell_type": "code",
   "execution_count": 109,
   "metadata": {},
   "outputs": [],
   "source": [
    "reset_graph()\n",
    "\n",
    "def my_func(w, x):\n",
    "    with tf.variable_scope(\"0_level\", reuse=tf.AUTO_REUSE):\n",
    "        f_0 = tf.exp(w[0, 0] + w[0, 1]*x)\n",
    "    with tf.variable_scope(\"1_level\", reuse=tf.AUTO_REUSE):\n",
    "        f_1 = tf.exp(w[1, 0] + w[1, 1]*f_0)\n",
    "    with tf.variable_scope(\"2_level\", reuse=tf.AUTO_REUSE):\n",
    "        f_2 = tf.exp(w[2, 0] + w[2, 1]*f_1)\n",
    "        \n",
    "    return f_2, f_1, f_0"
   ]
  },
  {
   "cell_type": "code",
   "execution_count": 110,
   "metadata": {},
   "outputs": [
    {
     "data": {
      "text/plain": [
       "array([[0., 1.],\n",
       "       [0., 1.],\n",
       "       [0., 1.]], dtype=float32)"
      ]
     },
     "execution_count": 110,
     "metadata": {},
     "output_type": "execute_result"
    }
   ],
   "source": [
    "w_0 = np.stack((np.zeros(3), np.ones(3))).T.astype(np.float32)\n",
    "w_0"
   ]
  },
  {
   "cell_type": "code",
   "execution_count": 111,
   "metadata": {},
   "outputs": [
    {
     "data": {
      "text/plain": [
       "[<tf.Tensor 'gradients/AddN:0' shape=(3, 2) dtype=float32>]"
      ]
     },
     "execution_count": 111,
     "metadata": {},
     "output_type": "execute_result"
    }
   ],
   "source": [
    "# variables with inializers\n",
    "with tf.variable_scope(\"parameters\", reuse=tf.AUTO_REUSE):\n",
    "    w_0 = tf.get_variable(\"w_0\", initializer=w_0, dtype=tf.float32)\n",
    "    x = tf.get_variable(\"x\", initializer=1.0, dtype=tf.float32)\n",
    "\n",
    "# define the function\n",
    "f_2, f_1, f_0 = my_func(w_0, x)\n",
    "\n",
    "# calculate gradients\n",
    "grad = tf.gradients(f_2, w_0)\n",
    "grad"
   ]
  },
  {
   "cell_type": "code",
   "execution_count": 116,
   "metadata": {},
   "outputs": [
    {
     "name": "stdout",
     "output_type": "stream",
     "text": [
      "Function values:  [3814273.0, 15.154261, 2.7182817]\n",
      "Gradients:  [array([[1.5712344e+08, 1.5712344e+08],\n",
      "       [5.7802488e+07, 1.5712344e+08],\n",
      "       [3.8142730e+06, 5.7802488e+07]], dtype=float32)]\n"
     ]
    }
   ],
   "source": [
    "# node for initializer\n",
    "init = tf.global_variables_initializer()\n",
    "\n",
    "with tf.Session() as sess:\n",
    "    init.run()\n",
    "    \n",
    "    # evaluate the expressions\n",
    "    # remeber that f_2, f_1 and f_0 are not functions, they are nodes in the graph\n",
    "    grads, f_vals = sess.run([grad, [f_2, f_1, f_0]])\n",
    "    \n",
    "print(\"Function values: \", f_vals)\n",
    "print(\"Gradients: \", grads)"
   ]
  },
  {
   "cell_type": "markdown",
   "metadata": {},
   "source": [
    "<img src="
   ]
  }
 ],
 "metadata": {
  "kernelspec": {
   "display_name": "Python 3",
   "language": "python",
   "name": "python3"
  },
  "language_info": {
   "codemirror_mode": {
    "name": "ipython",
    "version": 3
   },
   "file_extension": ".py",
   "mimetype": "text/x-python",
   "name": "python",
   "nbconvert_exporter": "python",
   "pygments_lexer": "ipython3",
   "version": "3.6.5"
  }
 },
 "nbformat": 4,
 "nbformat_minor": 2
}
